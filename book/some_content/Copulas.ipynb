{
 "cells": [
  {
   "cell_type": "code",
   "execution_count": null,
   "metadata": {
    "tags": [
     "thebe-remove-input-init",
     "auto_execute_cell"
    ],
    "vscode": {
     "languageId": "plaintext"
    }
   },
   "outputs": [],
   "source": [
    "import micropip\n",
    "await micropip.install(\"packages/pyvinecopulib-0.6.8-cp310-cp310-win_amd64.whl\")"
   ]
  },
  {
   "cell_type": "code",
   "execution_count": null,
   "metadata": {
    "vscode": {
     "languageId": "plaintext"
    }
   },
   "outputs": [],
   "source": [
    "import pyvinecopulib as pv\n",
    "\n",
    "pv.Bicop()\n",
    "\n",
    "cop = pv.Bicop(family=pv.BicopFamily.student, rotation=0, parameters=[0.5, 4])\n",
    "u = cop.simulate(n=10, seeds=[1, 2, 3])\n",
    "fcts = [\n",
    "  cop.pdf,\n",
    "  cop.cdf,\n",
    "  cop.hfunc1,\n",
    "  cop.hfunc2,\n",
    "  cop.hinv1,\n",
    "  cop.hinv2,\n",
    "  cop.loglik,\n",
    "  cop.aic,\n",
    "  cop.bic,\n",
    "]\n",
    "[f(u) for f in fcts]"
   ]
  }
 ],
 "metadata": {
  "language_info": {
   "name": "python"
  }
 },
 "nbformat": 4,
 "nbformat_minor": 2
}
