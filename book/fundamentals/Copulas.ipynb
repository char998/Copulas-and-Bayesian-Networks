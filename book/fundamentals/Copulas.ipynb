{
 "cells": [
  {
   "cell_type": "markdown",
   "metadata": {},
   "source": [
    "# Copulas\n"
   ]
  },
  {
   "cell_type": "code",
   "execution_count": 1,
   "metadata": {
    "tags": [
     "thebe-remove-input-init",
     "auto-execute-page"
    ]
   },
   "outputs": [
    {
     "ename": "ValueError",
     "evalue": "Wheel was built with Emscripten v3.1.45 but Pyodide was built with Emscripten vwin.amd64",
     "output_type": "error",
     "traceback": [
      "\u001b[1;31m---------------------------------------------------------------------------\u001b[0m",
      "\u001b[1;31mValueError\u001b[0m                                Traceback (most recent call last)",
      "Cell \u001b[1;32mIn[1], line 2\u001b[0m\n\u001b[0;32m      1\u001b[0m \u001b[38;5;28;01mimport\u001b[39;00m \u001b[38;5;21;01mmicropip\u001b[39;00m\n\u001b[1;32m----> 2\u001b[0m \u001b[38;5;28;01mawait\u001b[39;00m micropip\u001b[38;5;241m.\u001b[39minstall(\u001b[38;5;124m\"\u001b[39m\u001b[38;5;124m../packages/pyvinecopulib-0.6.5-cp311-cp311-emscripten_3_1_45_wasm32.whl\u001b[39m\u001b[38;5;124m\"\u001b[39m)\n",
      "File \u001b[1;32mc:\\Users\\chari\\miniconda3\\envs\\my_new_book_2\\Lib\\site-packages\\micropip\\package_manager.py:133\u001b[0m, in \u001b[0;36mPackageManager.install\u001b[1;34m(self, requirements, keep_going, deps, credentials, pre, index_urls, verbose)\u001b[0m\n\u001b[0;32m    130\u001b[0m \u001b[38;5;28;01mif\u001b[39;00m index_urls \u001b[38;5;129;01mis\u001b[39;00m \u001b[38;5;28;01mNone\u001b[39;00m:\n\u001b[0;32m    131\u001b[0m     index_urls \u001b[38;5;241m=\u001b[39m \u001b[38;5;28mself\u001b[39m\u001b[38;5;241m.\u001b[39mindex_urls\n\u001b[1;32m--> 133\u001b[0m \u001b[38;5;28;01mreturn\u001b[39;00m \u001b[38;5;28;01mawait\u001b[39;00m install(\n\u001b[0;32m    134\u001b[0m     requirements,\n\u001b[0;32m    135\u001b[0m     index_urls,\n\u001b[0;32m    136\u001b[0m     keep_going,\n\u001b[0;32m    137\u001b[0m     deps,\n\u001b[0;32m    138\u001b[0m     credentials,\n\u001b[0;32m    139\u001b[0m     pre,\n\u001b[0;32m    140\u001b[0m     verbose\u001b[38;5;241m=\u001b[39mverbose,\n\u001b[0;32m    141\u001b[0m )\n",
      "File \u001b[1;32mc:\\Users\\chari\\miniconda3\\envs\\my_new_book_2\\Lib\\site-packages\\micropip\\install.py:53\u001b[0m, in \u001b[0;36minstall\u001b[1;34m(requirements, index_urls, keep_going, deps, credentials, pre, verbose)\u001b[0m\n\u001b[0;32m     41\u001b[0m wheel_base \u001b[38;5;241m=\u001b[39m Path(getsitepackages()[\u001b[38;5;241m0\u001b[39m])\n\u001b[0;32m     43\u001b[0m transaction \u001b[38;5;241m=\u001b[39m Transaction(\n\u001b[0;32m     44\u001b[0m     ctx\u001b[38;5;241m=\u001b[39mctx,  \u001b[38;5;66;03m# type: ignore[arg-type]\u001b[39;00m\n\u001b[0;32m     45\u001b[0m     ctx_extras\u001b[38;5;241m=\u001b[39m[],\n\u001b[1;32m   (...)\u001b[0m\n\u001b[0;32m     51\u001b[0m     index_urls\u001b[38;5;241m=\u001b[39mindex_urls,\n\u001b[0;32m     52\u001b[0m )\n\u001b[1;32m---> 53\u001b[0m \u001b[38;5;28;01mawait\u001b[39;00m transaction\u001b[38;5;241m.\u001b[39mgather_requirements(requirements)\n\u001b[0;32m     55\u001b[0m \u001b[38;5;28;01mif\u001b[39;00m transaction\u001b[38;5;241m.\u001b[39mfailed:\n\u001b[0;32m     56\u001b[0m     failed_requirements \u001b[38;5;241m=\u001b[39m \u001b[38;5;124m\"\u001b[39m\u001b[38;5;124m, \u001b[39m\u001b[38;5;124m\"\u001b[39m\u001b[38;5;241m.\u001b[39mjoin([\u001b[38;5;124mf\u001b[39m\u001b[38;5;124m\"\u001b[39m\u001b[38;5;124m'\u001b[39m\u001b[38;5;132;01m{\u001b[39;00mreq\u001b[38;5;132;01m}\u001b[39;00m\u001b[38;5;124m'\u001b[39m\u001b[38;5;124m\"\u001b[39m \u001b[38;5;28;01mfor\u001b[39;00m req \u001b[38;5;129;01min\u001b[39;00m transaction\u001b[38;5;241m.\u001b[39mfailed])\n",
      "File \u001b[1;32mc:\\Users\\chari\\miniconda3\\envs\\my_new_book_2\\Lib\\site-packages\\micropip\\transaction.py:55\u001b[0m, in \u001b[0;36mTransaction.gather_requirements\u001b[1;34m(self, requirements)\u001b[0m\n\u001b[0;32m     52\u001b[0m \u001b[38;5;28;01mfor\u001b[39;00m requirement \u001b[38;5;129;01min\u001b[39;00m requirements:\n\u001b[0;32m     53\u001b[0m     requirement_promises\u001b[38;5;241m.\u001b[39mappend(\u001b[38;5;28mself\u001b[39m\u001b[38;5;241m.\u001b[39madd_requirement(requirement))\n\u001b[1;32m---> 55\u001b[0m \u001b[38;5;28;01mawait\u001b[39;00m asyncio\u001b[38;5;241m.\u001b[39mgather(\u001b[38;5;241m*\u001b[39mrequirement_promises)\n",
      "File \u001b[1;32mc:\\Users\\chari\\miniconda3\\envs\\my_new_book_2\\Lib\\site-packages\\micropip\\transaction.py:66\u001b[0m, in \u001b[0;36mTransaction.add_requirement\u001b[1;34m(self, req)\u001b[0m\n\u001b[0;32m     64\u001b[0m \u001b[38;5;66;03m# custom download location\u001b[39;00m\n\u001b[0;32m     65\u001b[0m wheel \u001b[38;5;241m=\u001b[39m WheelInfo\u001b[38;5;241m.\u001b[39mfrom_url(req)\n\u001b[1;32m---> 66\u001b[0m \u001b[43mcheck_compatible\u001b[49m\u001b[43m(\u001b[49m\u001b[43mwheel\u001b[49m\u001b[38;5;241;43m.\u001b[39;49m\u001b[43mfilename\u001b[49m\u001b[43m)\u001b[49m\n\u001b[0;32m     68\u001b[0m \u001b[38;5;28;01mawait\u001b[39;00m \u001b[38;5;28mself\u001b[39m\u001b[38;5;241m.\u001b[39madd_wheel(wheel, extras\u001b[38;5;241m=\u001b[39m\u001b[38;5;28mset\u001b[39m(), specifier\u001b[38;5;241m=\u001b[39m\u001b[38;5;124m\"\u001b[39m\u001b[38;5;124m\"\u001b[39m)\n",
      "File \u001b[1;32mc:\\Users\\chari\\miniconda3\\envs\\my_new_book_2\\Lib\\site-packages\\micropip\\_utils.py:167\u001b[0m, in \u001b[0;36mcheck_compatible\u001b[1;34m(filename)\u001b[0m\n\u001b[0;32m    165\u001b[0m pyodide_emscripten_version \u001b[38;5;241m=\u001b[39m platform_to_version(get_platform())\n\u001b[0;32m    166\u001b[0m \u001b[38;5;28;01mif\u001b[39;00m wheel_emscripten_version \u001b[38;5;241m!=\u001b[39m pyodide_emscripten_version:\n\u001b[1;32m--> 167\u001b[0m     \u001b[38;5;28;01mraise\u001b[39;00m \u001b[38;5;167;01mValueError\u001b[39;00m(\n\u001b[0;32m    168\u001b[0m         \u001b[38;5;124mf\u001b[39m\u001b[38;5;124m\"\u001b[39m\u001b[38;5;124mWheel was built with Emscripten v\u001b[39m\u001b[38;5;132;01m{\u001b[39;00mwheel_emscripten_version\u001b[38;5;132;01m}\u001b[39;00m\u001b[38;5;124m but \u001b[39m\u001b[38;5;124m\"\u001b[39m\n\u001b[0;32m    169\u001b[0m         \u001b[38;5;124mf\u001b[39m\u001b[38;5;124m\"\u001b[39m\u001b[38;5;124mPyodide was built with Emscripten v\u001b[39m\u001b[38;5;132;01m{\u001b[39;00mpyodide_emscripten_version\u001b[38;5;132;01m}\u001b[39;00m\u001b[38;5;124m\"\u001b[39m\n\u001b[0;32m    170\u001b[0m     )\n\u001b[0;32m    172\u001b[0m abi_incompatible \u001b[38;5;241m=\u001b[39m \u001b[38;5;28;01mTrue\u001b[39;00m\n\u001b[0;32m    173\u001b[0m \u001b[38;5;28;01mfrom\u001b[39;00m \u001b[38;5;21;01msys\u001b[39;00m \u001b[38;5;28;01mimport\u001b[39;00m version_info\n",
      "\u001b[1;31mValueError\u001b[0m: Wheel was built with Emscripten v3.1.45 but Pyodide was built with Emscripten vwin.amd64"
     ]
    }
   ],
   "source": [
    "import micropip\n",
    "await micropip.install(\"../packages/pyvinecopulib-0.6.5-cp311-cp311-emscripten_3_1_45_wasm32.whl\")"
   ]
  },
  {
   "cell_type": "code",
   "execution_count": null,
   "metadata": {},
   "outputs": [],
   "source": [
    "import pyvinecopulib as pv\n",
    "\n",
    "pv.Bicop()\n",
    "\n",
    "cop = pv.Bicop(family=pv.BicopFamily.student, rotation=0, parameters=[0.5, 4])\n",
    "u = cop.simulate(n=10, seeds=[1, 2, 3])\n",
    "fcts = [\n",
    "  cop.pdf,\n",
    "  cop.cdf,\n",
    "  cop.hfunc1,\n",
    "  cop.hfunc2,\n",
    "  cop.hinv1,\n",
    "  cop.hinv2,\n",
    "  cop.loglik,\n",
    "  cop.aic,\n",
    "  cop.bic,\n",
    "]\n",
    "[f(u) for f in fcts]"
   ]
  }
 ],
 "metadata": {
  "kernelspec": {
   "display_name": "my_new_book_2",
   "language": "python",
   "name": "python3"
  },
  "language_info": {
   "codemirror_mode": {
    "name": "ipython",
    "version": 3
   },
   "file_extension": ".py",
   "mimetype": "text/x-python",
   "name": "python",
   "nbconvert_exporter": "python",
   "pygments_lexer": "ipython3",
   "version": "3.13.0"
  }
 },
 "nbformat": 4,
 "nbformat_minor": 2
}
