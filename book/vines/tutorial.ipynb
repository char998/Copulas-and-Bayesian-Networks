{
 "cells": [
  {
   "cell_type": "markdown",
   "metadata": {
    "id": "dDcxip5PjAKT"
   },
   "source": [
    "# Tutorial: Vine-copulas with *pyvinecopulib*"
   ]
  },
  {
   "cell_type": "markdown",
   "metadata": {
    "id": "c-SOw0tljAKV"
   },
   "source": [
    "In this tutorial, we will introduce you to the software pyvinecopulib (Nagler et al., 2022) to use vine-copulas. Here you can find the complete [documentation](https://vinecopulib.github.io/pyvinecopulib/)."
   ]
  },
  {
   "cell_type": "code",
   "execution_count": null,
   "metadata": {
    "tags": [
     "thebe-remove-input-init",
     "auto-execute-page"
    ]
   },
   "outputs": [],
   "source": [
    "import micropip\n",
    "await micropip.install(\"../packages/pyvinecopulib-0.6.5-cp311-cp311-emscripten_3_1_45_wasm32.whl\")\n",
    "await micropip.install(\"../packages/py_banshee-1.1.1-py3-none-any.whl\")"
   ]
  },
  {
   "cell_type": "code",
   "execution_count": 1,
   "metadata": {
    "id": "53uXz9eTjAKX"
   },
   "outputs": [
    {
     "name": "stderr",
     "output_type": "stream",
     "text": [
      "/Users/pmaresnasarre/opt/anaconda3/envs/multi_more/lib/python3.11/site-packages/outdated/utils.py:14: OutdatedPackageWarning: The package pingouin is out of date. Your version is 0.5.3, the latest is 0.5.5.\n",
      "Set the environment variable OUTDATED_IGNORE=1 to disable these warnings.\n",
      "  return warn(\n"
     ]
    }
   ],
   "source": [
    "import matplotlib.pyplot as plt\n",
    "import numpy as np\n",
    "import pandas as pd\n",
    "import pyvinecopulib as pv\n",
    "import seaborn as sns\n",
    "from scipy import stats\n",
    "from py_banshee.copula_test import cvm_statistic\n",
    "from scipy.interpolate import interp1d\n",
    "\n",
    "%matplotlib inline "
   ]
  },
  {
   "cell_type": "markdown",
   "metadata": {},
   "source": [
    "### 1. Loading and exploring the data"
   ]
  },
  {
   "cell_type": "markdown",
   "metadata": {},
   "source": [
    "First, we load the data. Note that the code is prepared for the data file to be in the same directory as your notebook. If not, you will have to add the directory yourself."
   ]
  },
  {
   "cell_type": "code",
   "execution_count": 2,
   "metadata": {},
   "outputs": [
    {
     "data": {
      "text/html": [
       "<div>\n",
       "<style scoped>\n",
       "    .dataframe tbody tr th:only-of-type {\n",
       "        vertical-align: middle;\n",
       "    }\n",
       "\n",
       "    .dataframe tbody tr th {\n",
       "        vertical-align: top;\n",
       "    }\n",
       "\n",
       "    .dataframe thead th {\n",
       "        text-align: right;\n",
       "    }\n",
       "</style>\n",
       "<table border=\"1\" class=\"dataframe\">\n",
       "  <thead>\n",
       "    <tr style=\"text-align: right;\">\n",
       "      <th></th>\n",
       "      <th>Hs (m)</th>\n",
       "      <th>Tm (s)</th>\n",
       "      <th>Tp (s)</th>\n",
       "      <th>W (ms-1)</th>\n",
       "    </tr>\n",
       "  </thead>\n",
       "  <tbody>\n",
       "    <tr>\n",
       "      <th>0</th>\n",
       "      <td>0.47</td>\n",
       "      <td>4.47</td>\n",
       "      <td>5.92</td>\n",
       "      <td>2.1</td>\n",
       "    </tr>\n",
       "    <tr>\n",
       "      <th>1</th>\n",
       "      <td>0.45</td>\n",
       "      <td>4.49</td>\n",
       "      <td>5.85</td>\n",
       "      <td>2.2</td>\n",
       "    </tr>\n",
       "    <tr>\n",
       "      <th>2</th>\n",
       "      <td>0.43</td>\n",
       "      <td>4.49</td>\n",
       "      <td>5.78</td>\n",
       "      <td>1.9</td>\n",
       "    </tr>\n",
       "    <tr>\n",
       "      <th>3</th>\n",
       "      <td>0.42</td>\n",
       "      <td>4.49</td>\n",
       "      <td>5.71</td>\n",
       "      <td>2.0</td>\n",
       "    </tr>\n",
       "    <tr>\n",
       "      <th>4</th>\n",
       "      <td>0.40</td>\n",
       "      <td>4.47</td>\n",
       "      <td>5.65</td>\n",
       "      <td>2.3</td>\n",
       "    </tr>\n",
       "  </tbody>\n",
       "</table>\n",
       "</div>"
      ],
      "text/plain": [
       "   Hs (m)  Tm (s)  Tp (s)  W (ms-1)\n",
       "0    0.47    4.47    5.92       2.1\n",
       "1    0.45    4.49    5.85       2.2\n",
       "2    0.43    4.49    5.78       1.9\n",
       "3    0.42    4.49    5.71       2.0\n",
       "4    0.40    4.47    5.65       2.3"
      ]
     },
     "execution_count": 2,
     "metadata": {},
     "output_type": "execute_result"
    }
   ],
   "source": [
    "data = pd.read_csv('dataset.csv', sep = ',')\n",
    "data.head() #shows the first 5 rows of the data set"
   ]
  },
  {
   "cell_type": "code",
   "execution_count": 3,
   "metadata": {},
   "outputs": [
    {
     "data": {
      "text/plain": [
       "(299, 4)"
      ]
     },
     "execution_count": 3,
     "metadata": {},
     "output_type": "execute_result"
    }
   ],
   "source": [
    "data.shape"
   ]
  },
  {
   "cell_type": "markdown",
   "metadata": {},
   "source": [
    "We have imported a DataFrame with 4 columns and 299 rows. We have the following variables:\n",
    "- Hs(m): significant wave height in m;\n",
    "- Tm(s): mean wave period in s;\n",
    "- Tp(s): peak wave period in s;\n",
    "- W(ms-1): wind speed in m/s.\n",
    "\n",
    "Similar to the first parts of the analysis to implement NPBN, we need to have a look at the dependence between the random variables to see whether the assumption of Gaussian copula is reasonable (and thus, we can use NPBN as it is a simpler model) or is not (and then we need to use vine-copulas to account for the tail-dependence).\n",
    "\n",
    "We will not show that part of the analysis in this tutorial as it was already covered [here](tut_NPBN)."
   ]
  },
  {
   "cell_type": "markdown",
   "metadata": {},
   "source": [
    "### 2. Fitting vine-copulas using Dissman's algorithm"
   ]
  },
  {
   "cell_type": "markdown",
   "metadata": {},
   "source": [
    "Dissman's algorithm is already implemented in the package and it just requires one line of code to look for the best model using it."
   ]
  },
  {
   "cell_type": "code",
   "execution_count": 4,
   "metadata": {},
   "outputs": [
    {
     "data": {
      "text/plain": [
       "array([[2, 1, 4, 4],\n",
       "       [1, 4, 1, 0],\n",
       "       [4, 2, 0, 0],\n",
       "       [3, 0, 0, 0]], dtype=uint64)"
      ]
     },
     "execution_count": 4,
     "metadata": {},
     "output_type": "execute_result"
    }
   ],
   "source": [
    "#Transform data to unity space\n",
    "def unity(data):\n",
    "    M = data.shape[0]  # Reading number of observations per node\n",
    "    ranks = data.rank(axis=0)\n",
    "    u_hat = ranks / (M + 1)\n",
    "    return u_hat\n",
    "\n",
    "unity_data = unity(data)\n",
    "\n",
    "#Fit using Dissman's\n",
    "vine_model = pv.Vinecop(np.array(unity_data))\n",
    "\n",
    "#Let's see how the structure looks\n",
    "vine_model.matrix"
   ]
  },
  {
   "cell_type": "code",
   "execution_count": 5,
   "metadata": {},
   "outputs": [
    {
     "name": "stdout",
     "output_type": "stream",
     "text": [
      "<pyvinecopulib.Vinecop>\n",
      "** Tree: 0\n",
      "3,2 <-> TLL, parameters = [30x30 grid]\n",
      "2,1 <-> TLL, parameters = [30x30 grid]\n",
      "1,4 <-> TLL, parameters = [30x30 grid]\n",
      "** Tree: 1\n",
      "3,1 | 2 <-> TLL, parameters = [30x30 grid]\n",
      "2,4 | 1 <-> BB8 90°, parameters =        8\n",
      "0.635353\n",
      "** Tree: 2\n",
      "3,4 | 1,2 <-> TLL, parameters = [30x30 grid]\n",
      "\n"
     ]
    }
   ],
   "source": [
    "#Let's see the fitted copulas and trees\n",
    "print(vine_model)"
   ]
  },
  {
   "cell_type": "markdown",
   "metadata": {},
   "source": [
    "### 3. Fitting vine-copulas using Brute Force"
   ]
  },
  {
   "cell_type": "markdown",
   "metadata": {},
   "source": [
    "Now, we will use te vine-copula catalog up to 8 nodes (CHIMERA, [Morales-Nápoles et al., 2023](https://doi.org/10.1038/s41597-023-02252-6)) to fit all the possible vine-copula structures and choose the one with the lowest Akaike Information Criterion. This is the method called Brute Force."
   ]
  },
  {
   "cell_type": "code",
   "execution_count": 6,
   "metadata": {},
   "outputs": [],
   "source": [
    "# first we import a function to extract the matrices from a files\n",
    "from get_matrices import get_matrices\n",
    "\n",
    "#Import matrices\n",
    "matrices_4_nodes = get_matrices('/CHIMERA_4/', nodes=4)"
   ]
  },
  {
   "cell_type": "markdown",
   "metadata": {},
   "source": [
    "We fit the 24 regular vines (matrices) to data. This cell can take some time to run."
   ]
  },
  {
   "cell_type": "code",
   "execution_count": null,
   "metadata": {},
   "outputs": [],
   "source": [
    "#Define a dictionary to store all the models\n",
    "myDictionary = {} \n",
    "\n",
    "#Fit all the models: we force to fit the matrix we provide. The algorithm will choose the best copulas according to AIC.\n",
    "for i in range(len(matrices_4_nodes)):\n",
    "    myDictionary.update({str(i): pv.Vinecop(np.array(unity_data), matrix=matrices_4_nodes[i].matrix)})\n",
    "\n",
    "#Compute AIC for each model\n",
    "vines_AIC = []\n",
    "for keys in myDictionary:\n",
    "    vines_AIC.append(myDictionary[keys].aic())"
   ]
  },
  {
   "cell_type": "markdown",
   "metadata": {},
   "source": [
    "We can also assess the performance of Dissman's algorithm by seeing the percentile of the AIC that it realises in the distribution."
   ]
  },
  {
   "cell_type": "code",
   "execution_count": null,
   "metadata": {},
   "outputs": [],
   "source": [
    "# Plotting the ECDF of the AIC of all the fitted vine-copulas and comparing it to the one obtained with Dissman's algorithm:\n",
    "\n",
    "def ecdf(data):\n",
    "    \"\"\" Compute ECDF \"\"\"\n",
    "    x = np.sort(data)\n",
    "    n = x.size\n",
    "    y = np.arange(1, n+1) / n\n",
    "    return(x,y)\n",
    "\n",
    "#compute the ecdf of the 24 AIC values\n",
    "aic_ecdf = ecdf(vines_AIC)\n",
    "#get the AIC of the algorithm \n",
    "algo_aic = vine_model.aic() \n",
    "#plot the velues, the vertical line represent the AIC computed by the algorithm. \n",
    "plt.plot(aic_ecdf[0],aic_ecdf[1],'-.',label= 'Computed AIC')\n",
    "plt.vlines(algo_aic, 0,1, color='red', label= 'Algorithm AIC')\n",
    "plt.xlabel('AIC')\n",
    "plt.ylabel('${P[AIC \\\\leq aic]}$')\n",
    "plt.grid()\n",
    "plt.legend(loc=1)\n",
    "plt.show()\n"
   ]
  },
  {
   "cell_type": "markdown",
   "metadata": {
    "id": "1cTBstL1jAKZ"
   },
   "source": [
    "### 4. Conditionalizing"
   ]
  },
  {
   "cell_type": "markdown",
   "metadata": {},
   "source": [
    "When the dimensions increase, analytical conditionalization becomes more tricky as there is not stardard algorithm for it. Another option is to conditionalize through simulation. This is, you draw a very high number of random samples from the vine-copula and select those samples where the variable that we want to conditionalize on ($X_c$) takes values within the range we are interested on, for instance, $X_c < x_c$. We can then build the conditional distributions as the empirical ones from the selected samples.\n",
    "\n",
    "Here, we will conditionalize the model given by Dissman's algorithm on a value of the wind speed os 10m/s."
   ]
  },
  {
   "cell_type": "code",
   "execution_count": null,
   "metadata": {},
   "outputs": [],
   "source": [
    "#%% Conditionalizing\n",
    "def eval_ecdf(obs, x):\n",
    "    interp_ecdf = interp1d(ecdf(obs)[0], ecdf(obs)[1], fill_value=\"extrapolate\")\n",
    "    return interp_ecdf(x)\n",
    "\n",
    "def eval_inverse_ecdf(obs, x):\n",
    "    ecdf_var = ecdf(obs)\n",
    "    inverted_ecdf = interp1d(ecdf_var[1], ecdf_var[0], fill_value=\"extrapolate\")\n",
    "    return inverted_ecdf(x)\n",
    "\n",
    "conditional_values = [3.5]\n",
    "conditional_vars = 3\n",
    "\n",
    "#Transform the conditionalizing value to unity space\n",
    "conditional_unity_values = eval_ecdf(data.iloc[:, conditional_vars], conditional_values)\n",
    "\n",
    "#Draw 1,000 random samples from the vine-copula\n",
    "samples = vine_model.simulate(1000)\n",
    "\n",
    "#Select those samples where the condition is fulfilled\n",
    "selection = samples[np.where(samples[:, conditional_vars]<conditional_unity_values)[0],:]\n",
    "\n",
    "#Transform them back to variable space using empiric margins\n",
    "selection_non_unity = np.empty_like(selection)\n",
    "selection_non_unity = [eval_inverse_ecdf(data.iloc[:,i], selection[:,i]) for i in range(selection.shape[1])]\n",
    "\n",
    "#Plot them\n",
    "fig, ax = plt.subplots(1, 3, figsize=(16, 5), layout = 'constrained')\n",
    "ax[0].hist(data.iloc[:,0], density=True,\n",
    "        edgecolor = 'k', facecolor = 'grey',alpha = 0.3,\n",
    "        label = 'Original distribution', bins = 9)\n",
    "ax[0].hist(selection_non_unity[0], density=True,\n",
    "        edgecolor = 'cornflowerblue', facecolor = 'lightskyblue', alpha = 0.4, label = 'Conditional distribution',\n",
    "        bins = 9)\n",
    "ax[0].legend(fontsize=\"12\")\n",
    "ax[0].set_xlabel('Significant wave height (m)')\n",
    "ax[0].set_ylabel('pdf')\n",
    "ax[0].set_title('Significant wave height (m)')\n",
    "ax[0].grid()\n",
    "\n",
    "ax[1].hist(data.iloc[:,1], density=True,\n",
    "        edgecolor = 'k', facecolor = 'grey',alpha = 0.3,\n",
    "        label = 'Original distribution', bins = 9)\n",
    "ax[1].hist(selection_non_unity[1], density=True,\n",
    "        edgecolor = 'cornflowerblue', facecolor = 'lightskyblue', alpha = 0.4, label = 'Conditional distribution',\n",
    "        bins = 9)\n",
    "ax[1].legend(fontsize=\"12\")\n",
    "ax[1].set_xlabel('Mean period (s)')\n",
    "ax[1].set_ylabel('pdf')\n",
    "ax[1].set_title('Mean period (s)')\n",
    "ax[1].grid()\n",
    "\n",
    "ax[2].hist(data.iloc[:,2], density=True,\n",
    "        edgecolor = 'k', facecolor = 'grey',alpha = 0.3,\n",
    "        label = 'Original distribution', bins = 9)\n",
    "ax[2].hist(selection_non_unity[2], density=True,\n",
    "        edgecolor = 'cornflowerblue', facecolor = 'lightskyblue', alpha = 0.4, label = 'Conditional distribution',\n",
    "        bins = 9)\n",
    "ax[2].legend(fontsize=\"12\")\n",
    "ax[2].set_xlabel('Peak period (s)')\n",
    "ax[2].set_ylabel('pdf')\n",
    "ax[2].set_title('Peak period (s)')\n",
    "ax[2].grid()"
   ]
  },
  {
   "cell_type": "markdown",
   "metadata": {},
   "source": [
    "End of the tutorial."
   ]
  }
 ],
 "metadata": {
  "colab": {
   "collapsed_sections": [],
   "provenance": []
  },
  "kernelspec": {
   "display_name": "multi_more",
   "language": "python",
   "name": "python3"
  },
  "language_info": {
   "codemirror_mode": {
    "name": "ipython",
    "version": 3
   },
   "file_extension": ".py",
   "mimetype": "text/x-python",
   "name": "python",
   "nbconvert_exporter": "python",
   "pygments_lexer": "ipython3",
   "version": "3.11.5"
  }
 },
 "nbformat": 4,
 "nbformat_minor": 4
}
